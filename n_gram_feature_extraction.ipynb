{
  "nbformat": 4,
  "nbformat_minor": 0,
  "metadata": {
    "colab": {
      "provenance": [],
      "mount_file_id": "1nZdEkWRdQkNS4qVFcBtxsjhqDtLv-J5h",
      "authorship_tag": "ABX9TyN450LNdkUfniuDDqYauWbo",
      "include_colab_link": true
    },
    "kernelspec": {
      "name": "python3",
      "display_name": "Python 3"
    },
    "language_info": {
      "name": "python"
    }
  },
  "cells": [
    {
      "cell_type": "markdown",
      "metadata": {
        "id": "view-in-github",
        "colab_type": "text"
      },
      "source": [
        "<a href=\"https://colab.research.google.com/github/kakdevedant2018/PML/blob/main/n_gram_feature_extraction.ipynb\" target=\"_parent\"><img src=\"https://colab.research.google.com/assets/colab-badge.svg\" alt=\"Open In Colab\"/></a>"
      ]
    },
    {
      "cell_type": "code",
      "execution_count": 1,
      "metadata": {
        "id": "lbLPFS2zHGBq"
      },
      "outputs": [],
      "source": [
        "import pandas as pd\n",
        "c = pd.read_csv(\"/content/drive/MyDrive/DGA_data/dga_data.csv\")"
      ]
    },
    {
      "cell_type": "code",
      "source": [
        "c=c.dropna()"
      ],
      "metadata": {
        "id": "_LoLvrUWHPKO"
      },
      "execution_count": 2,
      "outputs": []
    },
    {
      "cell_type": "code",
      "source": [
        "list1 = []\n",
        "for index, rows in c.iterrows():\n",
        "  if rows[\"isDGA\"]== \"legit\":\n",
        "    list1.append(rows[\"domain\"])\n"
      ],
      "metadata": {
        "id": "mCZWnIONHTIE"
      },
      "execution_count": 3,
      "outputs": []
    },
    {
      "cell_type": "code",
      "source": [
        "# code for creating n grams from domain.\n",
        "from nltk import ngrams\n",
        "d=[]\n",
        "for i in list1:\n",
        "  l1 = list(ngrams(i,3))\n",
        "  for i in l1: \n",
        "    sub=[]\n",
        "    for j in i:\n",
        "      sub.append(j)\n",
        "    \n",
        "    d.append(\"\".join(sub))\n",
        "\n",
        "print(len(d))"
      ],
      "metadata": {
        "colab": {
          "base_uri": "https://localhost:8080/",
          "height": 0
        },
        "id": "kGQbLalBHTkc",
        "outputId": "5be2d254-de17-4b66-fa21-67393aa39d19"
      },
      "execution_count": 29,
      "outputs": [
        {
          "output_type": "stream",
          "name": "stdout",
          "text": [
            "617727\n"
          ]
        }
      ]
    },
    {
      "cell_type": "code",
      "source": [
        "# code for creating n grams from domain.\n",
        "from nltk import ngrams\n",
        "for i in list1:\n",
        "  l1 = list(ngrams(i,5))\n",
        "  for i in l1: \n",
        "    sub=[]\n",
        "    for j in i:\n",
        "      sub.append(j)\n",
        "    \n",
        "    d.append(\"\".join(sub))\n",
        "\n",
        "print(len(d))"
      ],
      "metadata": {
        "colab": {
          "base_uri": "https://localhost:8080/",
          "height": 0
        },
        "id": "93JofTduIqAW",
        "outputId": "106be3c2-0033-4980-841b-e74f6030d5ee"
      },
      "execution_count": 30,
      "outputs": [
        {
          "output_type": "stream",
          "name": "stdout",
          "text": [
            "1078251\n"
          ]
        }
      ]
    },
    {
      "cell_type": "code",
      "source": [
        "d[0:12]"
      ],
      "metadata": {
        "colab": {
          "base_uri": "https://localhost:8080/",
          "height": 0
        },
        "id": "75FdStwDHW_y",
        "outputId": "39db942a-b632-496b-e775-b0d3a089d1ce"
      },
      "execution_count": 6,
      "outputs": [
        {
          "output_type": "execute_result",
          "data": {
            "text/plain": [
              "['zig',\n",
              " 'ige',\n",
              " 'ge3',\n",
              " 'e36',\n",
              " '365',\n",
              " 'spo',\n",
              " 'por',\n",
              " 'ort',\n",
              " 'rts',\n",
              " 'tsw',\n",
              " 'swi',\n",
              " 'wik']"
            ]
          },
          "metadata": {},
          "execution_count": 6
        }
      ]
    },
    {
      "cell_type": "code",
      "source": [
        "c = c.sample(frac=1)"
      ],
      "metadata": {
        "id": "lgs38kAXHZ8U"
      },
      "execution_count": 7,
      "outputs": []
    },
    {
      "cell_type": "code",
      "source": [
        "c.info()"
      ],
      "metadata": {
        "colab": {
          "base_uri": "https://localhost:8080/",
          "height": 0
        },
        "id": "RG_PVRaMHgTU",
        "outputId": "532a0a24-8cf6-4cd8-f68c-79f996e67492"
      },
      "execution_count": 8,
      "outputs": [
        {
          "output_type": "stream",
          "name": "stdout",
          "text": [
            "<class 'pandas.core.frame.DataFrame'>\n",
            "Int64Index: 159998 entries, 65515 to 76918\n",
            "Data columns (total 4 columns):\n",
            " #   Column    Non-Null Count   Dtype \n",
            "---  ------    --------------   ----- \n",
            " 0   isDGA     159998 non-null  object\n",
            " 1   domain    159998 non-null  object\n",
            " 2   host      159998 non-null  object\n",
            " 3   subclass  159998 non-null  object\n",
            "dtypes: object(4)\n",
            "memory usage: 6.1+ MB\n"
          ]
        }
      ]
    },
    {
      "cell_type": "code",
      "source": [
        "from nltk.util import ngrams\n",
        "\n",
        "def jaccard_similarity(str1, d, n):\n",
        "  str1_bigrams=[]\n",
        "  l1 = list(ngrams(str1,n))\n",
        "  for i in l1: \n",
        "    sub=[]\n",
        "    for j in i:\n",
        "      sub.append(j)\n",
        "    \n",
        "    str1_bigrams.append(\"\".join(sub))\n",
        "  intersection = len(list(set(str1_bigrams).intersection(set(d))))\n",
        "  union = (len(set(str1_bigrams)) + len(set(d))) - intersection\n",
        "\n",
        "  return float(intersection) / union"
      ],
      "metadata": {
        "id": "-R-Qo2qSHiWc"
      },
      "execution_count": 31,
      "outputs": []
    },
    {
      "cell_type": "code",
      "source": [
        "# str1_bigrams=[]\n",
        "# l1 = list(ngrams(\"google\",3))\n",
        "# for i in l1: \n",
        "#   sub=[]\n",
        "#   for j in i:\n",
        "#     sub.append(j)\n",
        "    \n",
        "#   str1_bigrams.append(\"\".join(sub))\n"
      ],
      "metadata": {
        "id": "j7Jt9jCPHk4i"
      },
      "execution_count": 23,
      "outputs": []
    },
    {
      "cell_type": "code",
      "source": [
        "similarities = [jaccard_similarity(\"google\", d, 3) ]\n",
        "avg_similarity= sum(similarities) / len(similarities)\n",
        "print(avg_similarity)\n"
      ],
      "metadata": {
        "colab": {
          "base_uri": "https://localhost:8080/",
          "height": 0
        },
        "id": "0NiWxSj4HnRj",
        "outputId": "22ef6754-3560-4cbd-eb05-36f39f1b9407"
      },
      "execution_count": 52,
      "outputs": [
        {
          "output_type": "stream",
          "name": "stdout",
          "text": [
            "1.8632209500563623e-05\n"
          ]
        }
      ]
    },
    {
      "cell_type": "code",
      "source": [
        "similarities = [jaccard_similarity(\"google\", d, 5) ]\n",
        "print(similarities)\n",
        "avg_similarity = sum(similarities) / len(similarities)"
      ],
      "metadata": {
        "colab": {
          "base_uri": "https://localhost:8080/",
          "height": 0
        },
        "id": "N2MVKn4QIXNT",
        "outputId": "4a7df881-4e62-4e9f-de66-5a67fb0be219"
      },
      "execution_count": 53,
      "outputs": [
        {
          "output_type": "stream",
          "name": "stdout",
          "text": [
            "[9.316104750281811e-06]\n"
          ]
        }
      ]
    },
    {
      "cell_type": "code",
      "source": [
        "similarities = [jaccard_similarity(\"Google\", d, 5) ]\n",
        "avg_similarity = sum(similarities) / len(similarities)\n",
        "print(avg_similarity)"
      ],
      "metadata": {
        "colab": {
          "base_uri": "https://localhost:8080/",
          "height": 0
        },
        "id": "fi_03g9-JfQf",
        "outputId": "018cd736-7769-44c4-af50-a1fa17b5e926"
      },
      "execution_count": 47,
      "outputs": [
        {
          "output_type": "stream",
          "name": "stdout",
          "text": [
            "4.658030677790044e-06\n"
          ]
        }
      ]
    },
    {
      "cell_type": "code",
      "source": [
        "similarities = [jaccard_similarity(\"facebook\", d, 3) ]\n",
        "avg_similarity = sum(similarities) / len(similarities)\n",
        "print(avg_similarity)"
      ],
      "metadata": {
        "colab": {
          "base_uri": "https://localhost:8080/",
          "height": 0
        },
        "id": "cLh80p-4HpsL",
        "outputId": "69f51397-622a-46fd-e666-e1b00cb77878"
      },
      "execution_count": 42,
      "outputs": [
        {
          "output_type": "stream",
          "name": "stdout",
          "text": [
            "2.7948314250845436e-05\n"
          ]
        }
      ]
    },
    {
      "cell_type": "code",
      "source": [
        "similarities = [jaccard_similarity(\"6xzxsw3sokvg1tc752y1a6p0af\", d, 3) ]\n",
        "\n",
        "avg_similarity = sum(similarities) / len(similarities)\n",
        "print(avg_similarity)"
      ],
      "metadata": {
        "colab": {
          "base_uri": "https://localhost:8080/",
          "height": 0
        },
        "id": "nzg4VSdyH3Ee",
        "outputId": "08c42a41-ce3d-4877-a7a9-1809e50a854b"
      },
      "execution_count": 45,
      "outputs": [
        {
          "output_type": "stream",
          "name": "stdout",
          "text": [
            "5.123547357879783e-05\n"
          ]
        }
      ]
    },
    {
      "cell_type": "code",
      "source": [
        "similarities = [jaccard_similarity(\"yupp\", d, 3) ]\n",
        "print(similarities)\n",
        "avg_similarity = sum(similarities) / len(similarities)"
      ],
      "metadata": {
        "colab": {
          "base_uri": "https://localhost:8080/",
          "height": 0
        },
        "id": "PbVJHMq2JBT7",
        "outputId": "c96253ab-c5ba-49be-9bdf-41d6655f39d3"
      },
      "execution_count": 44,
      "outputs": [
        {
          "output_type": "stream",
          "name": "stdout",
          "text": [
            "[9.316104750281811e-06]\n"
          ]
        }
      ]
    },
    {
      "cell_type": "code",
      "source": [],
      "metadata": {
        "id": "Ryi5oZy4Jab1"
      },
      "execution_count": null,
      "outputs": []
    }
  ]
}